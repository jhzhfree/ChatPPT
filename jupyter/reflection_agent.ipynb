{
 "cells": [
  {
   "cell_type": "code",
   "execution_count": 36,
   "id": "60ca92ce-ff72-417e-a069-8584b7394bfa",
   "metadata": {},
   "outputs": [],
   "source": [
    "%%capture --no-stderr\n",
    "%pip install langchain langgraph langchain-ollama tavily-python"
   ]
  },
  {
   "cell_type": "code",
   "execution_count": 37,
   "id": "b2b80edd-c0ad-41e2-bd16-6d6d672af520",
   "metadata": {},
   "outputs": [],
   "source": [
    "import getpass\n",
    "import os\n",
    "\n",
    "# 定义一个帮助函数来检查环境变量，如果不存在则提示用户输入\n",
    "def _set_if_undefined(var: str):\n",
    "    if not os.environ.get(var):\n",
    "        os.environ[var] = getpass.getpass(f\"请输入您的 {var}\")"
   ]
  },
  {
   "cell_type": "code",
   "execution_count": 38,
   "id": "5ffa8aab-ef5e-4203-8cc6-98a08c1a7ca0",
   "metadata": {},
   "outputs": [],
   "source": [
    "# 设置 OpenAI 和 Langchain API 密钥\n",
    "_set_if_undefined(\"OPENAI_API_KEY\")\n",
    "_set_if_undefined(\"LANGCHAIN_API_KEY\")\n",
    "# _set_if_undefined(\"TAVILY_API_KEY\")"
   ]
  },
  {
   "cell_type": "code",
   "execution_count": 39,
   "id": "3a697eff-6d8d-40b4-872c-e7ff3b87b531",
   "metadata": {},
   "outputs": [],
   "source": [
    "# 在 LangSmith 中添加追踪功能\n",
    "os.environ[\"LANGCHAIN_TRACING_V2\"] = \"true\"\n",
    "os.environ[\"LANGCHAIN_PROJECT\"] = \"Reflection\""
   ]
  },
  {
   "cell_type": "code",
   "execution_count": 40,
   "id": "6ea711b3-3452-4ea9-b3fb-e99c15bd1e97",
   "metadata": {},
   "outputs": [],
   "source": [
    "from langchain_core.messages import AIMessage, HumanMessage\n",
    "from langchain_core.prompts import ChatPromptTemplate, MessagesPlaceholder\n",
    "# from langchain_openai import ChatOpenAI\n",
    "from langchain_ollama.chat_models import ChatOllama\n",
    "\n",
    "writer_prompt = ChatPromptTemplate.from_messages(\n",
    "    [\n",
    "        (\n",
    "            \"system\",\n",
    "            \"You are a writing assistant tasked with creating well-crafted, coherent, and engaging articles based on the user's request.\"\n",
    "            \" Focus on clarity, structure, and quality to produce the best possible piece of writing.\"\n",
    "            \" If the user provides feedback or suggestions, revise and improve the writing to better align with their expectations.\",\n",
    "        ),\n",
    "        MessagesPlaceholder(variable_name=\"messages\"),\n",
    "    ]\n",
    ")\n"
   ]
  },
  {
   "cell_type": "code",
   "execution_count": 41,
   "id": "17162db8-e8f7-4456-8404-445b21824e7a",
   "metadata": {},
   "outputs": [],
   "source": [
    "writer = writer_prompt | ChatOllama(\n",
    "    model=\"qwen2.5:3b\",\n",
    "    max_tokens=8192,\n",
    "    temperature=1.2,\n",
    "    base_url=\"http://172.16.3.199:11434\"\n",
    ")"
   ]
  },
  {
   "cell_type": "code",
   "execution_count": 42,
   "id": "5da01982-dabf-47f7-9d03-380acba8b4e1",
   "metadata": {},
   "outputs": [
    {
     "name": "stdout",
     "output_type": "stream",
     "text": [
      "根据您的请求，我们可以尝试结合《水浒传》中的风格来重新演绎《西游记》的部分情节。这里以“三打白骨精”这个经典章节为例子进行简要说明。\n",
      "\n",
      "首先，在内容上，《水浒传》中通常通过夸张的故事情节、人物对话和冲突解决方式来吸引读者，因此我们可以在保持原有故事框架的基础上加入更多生动的情节描写和富有幽默感的人物互动。例如，在描述妖怪白骨精诡计多端的招数时，可以将细节变得更加丰富且有笑料。\n",
      "\n",
      "其次，在写作手法上，《水浒传》常常通过大量的心理刻画来展现人物的性格特点与复杂情感变化。我们在改编《三打白骨精》时，同样要关注孙悟空这一角色内心的波动，通过一些独白或者内心独白的形式，使读者能够更加深入地了解其性格的多面性。\n",
      "\n",
      "最后，在语言风格上，《水浒传》倾向于使用口语化、幽默生动的语言来呈现人物之间的对话和冲突。对于《三打白骨精》，我们可以在保持原著紧张悬疑氛围的同时加入更多贴近日常交流口吻的词汇和表达方式，使得整个故事更加贴近现实生活中人们的言语习惯。\n",
      "\n",
      "请给我反馈，您是否满意这份改编示例呢？我将进一步根据您的反馈进行调整和完善。"
     ]
    }
   ],
   "source": [
    "article = \"\"\n",
    "\n",
    "topic = HumanMessage(\n",
    "    content=\"参考水浒传的风格，改写吴承恩的西游记中任意篇章\"\n",
    ")\n",
    "\n",
    "for chunk in writer.stream({\"messages\": [topic]}):\n",
    "    print(chunk.content, end=\"\")\n",
    "    article += chunk.content"
   ]
  },
  {
   "cell_type": "code",
   "execution_count": 43,
   "id": "99cbfd5b-99d7-4630-bc39-2661520afbd6",
   "metadata": {},
   "outputs": [
    {
     "data": {
      "text/markdown": [
       "根据您的请求，我们可以尝试结合《水浒传》中的风格来重新演绎《西游记》的部分情节。这里以“三打白骨精”这个经典章节为例子进行简要说明。\n",
       "\n",
       "首先，在内容上，《水浒传》中通常通过夸张的故事情节、人物对话和冲突解决方式来吸引读者，因此我们可以在保持原有故事框架的基础上加入更多生动的情节描写和富有幽默感的人物互动。例如，在描述妖怪白骨精诡计多端的招数时，可以将细节变得更加丰富且有笑料。\n",
       "\n",
       "其次，在写作手法上，《水浒传》常常通过大量的心理刻画来展现人物的性格特点与复杂情感变化。我们在改编《三打白骨精》时，同样要关注孙悟空这一角色内心的波动，通过一些独白或者内心独白的形式，使读者能够更加深入地了解其性格的多面性。\n",
       "\n",
       "最后，在语言风格上，《水浒传》倾向于使用口语化、幽默生动的语言来呈现人物之间的对话和冲突。对于《三打白骨精》，我们可以在保持原著紧张悬疑氛围的同时加入更多贴近日常交流口吻的词汇和表达方式，使得整个故事更加贴近现实生活中人们的言语习惯。\n",
       "\n",
       "请给我反馈，您是否满意这份改编示例呢？我将进一步根据您的反馈进行调整和完善。"
      ],
      "text/plain": [
       "<IPython.core.display.Markdown object>"
      ]
     },
     "metadata": {},
     "output_type": "display_data"
    }
   ],
   "source": [
    "from IPython.display import Markdown, display\n",
    "\n",
    "# 使用Markdown显示优化后的格式\n",
    "display(Markdown(article))"
   ]
  },
  {
   "cell_type": "code",
   "execution_count": 44,
   "id": "86d87234-c370-4fa4-b294-8846ae3bd204",
   "metadata": {},
   "outputs": [],
   "source": [
    "reflection_prompt = ChatPromptTemplate.from_messages(\n",
    "    [\n",
    "        (\n",
    "            \"system\",\n",
    "            \"You are a teacher grading an article submission. writer critique and recommendations for the user's submission.\"\n",
    "            \" Provide detailed recommendations, including requests for length, depth, style, etc.\",\n",
    "\n",
    "        ),\n",
    "        MessagesPlaceholder(variable_name=\"messages\"),\n",
    "    ]\n",
    ")\n",
    "\n",
    "reflect = reflection_prompt | ChatOllama(\n",
    "    model=\"qwen2.5:3b\",\n",
    "    max_tokens=8192,\n",
    "    temperature=0.2,\n",
    "    base_url=\"http://172.16.3.199:11434\"\n",
    ")"
   ]
  },
  {
   "cell_type": "code",
   "execution_count": 45,
   "id": "9f67358a-92bf-497a-9afe-b8cf0210e18a",
   "metadata": {},
   "outputs": [
    {
     "name": "stdout",
     "output_type": "stream",
     "text": [
      "您的示例非常详细且富有创意，很好地结合了《水浒传》的特点来重新演绎《西游记》中的“三打白骨精”章节。以下是针对这个示例的进一步建议和修改方向：\n",
      "\n",
      "### 内容深度与丰富度\n",
      "\n",
      "1. **情节细节**：在描述白骨精的各种诡计时，可以加入更多细节描写，比如妖怪如何变换形态、使用的道具等，使读者有更直观的感受。\n",
      "2. **人物互动**：增加孙悟空和其他角色之间的互动，特别是唐僧和猪八戒对白骨精的反应，以及他们之间关于是否继续前进的讨论。这样可以让情节更加丰富有趣。\n",
      "\n",
      "### 写作手法\n",
      "\n",
      "1. **心理描写**：在描述孙悟空内心波动时，可以加入更多细节来展现其性格的变化，比如他内心的犹豫、愤怒等情绪变化。\n",
      "2. **对话设计**：增加一些角色之间的对话，特别是孙悟空与白骨精之间的对峙和交流，这样可以让情节更加紧凑且引人入胜。\n",
      "\n",
      "### 语言风格\n",
      "\n",
      "1. **口语化表达**：继续保持原著的紧张感，同时加入更多贴近日常生活的口语表达。比如使用更自然的语气来描述妖怪的行为。\n",
      "2. **幽默元素**：适当加入一些幽默元素，使故事在保持紧张氛围的同时也更加轻松有趣。\n",
      "\n",
      "### 其他建议\n",
      "\n",
      "1. **角色背景**：简要介绍白骨精和其他妖魔鬼怪的角色背景和性格特点，这样可以让读者更好地理解他们的行为动机。\n",
      "2. **环境描写**：增加对场景的描述，比如孙悟空与白骨精交战时周围的环境变化等，使故事更加生动。\n",
      "\n",
      "### 总结\n",
      "\n",
      "您的示例已经非常出色了，但通过进一步丰富情节细节、加强人物互动和心理刻画以及调整语言风格，可以使文章更加引人入胜。请根据以上建议进行修改和完善，相信会得到更好的效果。期待看到最终的作品！"
     ]
    }
   ],
   "source": [
    "reflection = \"\"\n",
    "\n",
    "# 将主题（topic）和生成的文章（article）作为输入发送给反思智能体\n",
    "for chunk in reflect.stream({\"messages\": [topic, HumanMessage(content=article)]}):\n",
    "    print(chunk.content, end=\"\")\n",
    "    reflection += chunk.content"
   ]
  },
  {
   "cell_type": "code",
   "execution_count": 46,
   "id": "34b5badd-025c-4c49-a442-5bbe77ec3bbe",
   "metadata": {},
   "outputs": [
    {
     "data": {
      "text/markdown": [
       "您的示例非常详细且富有创意，很好地结合了《水浒传》的特点来重新演绎《西游记》中的“三打白骨精”章节。以下是针对这个示例的进一步建议和修改方向：\n",
       "\n",
       "### 内容深度与丰富度\n",
       "\n",
       "1. **情节细节**：在描述白骨精的各种诡计时，可以加入更多细节描写，比如妖怪如何变换形态、使用的道具等，使读者有更直观的感受。\n",
       "2. **人物互动**：增加孙悟空和其他角色之间的互动，特别是唐僧和猪八戒对白骨精的反应，以及他们之间关于是否继续前进的讨论。这样可以让情节更加丰富有趣。\n",
       "\n",
       "### 写作手法\n",
       "\n",
       "1. **心理描写**：在描述孙悟空内心波动时，可以加入更多细节来展现其性格的变化，比如他内心的犹豫、愤怒等情绪变化。\n",
       "2. **对话设计**：增加一些角色之间的对话，特别是孙悟空与白骨精之间的对峙和交流，这样可以让情节更加紧凑且引人入胜。\n",
       "\n",
       "### 语言风格\n",
       "\n",
       "1. **口语化表达**：继续保持原著的紧张感，同时加入更多贴近日常生活的口语表达。比如使用更自然的语气来描述妖怪的行为。\n",
       "2. **幽默元素**：适当加入一些幽默元素，使故事在保持紧张氛围的同时也更加轻松有趣。\n",
       "\n",
       "### 其他建议\n",
       "\n",
       "1. **角色背景**：简要介绍白骨精和其他妖魔鬼怪的角色背景和性格特点，这样可以让读者更好地理解他们的行为动机。\n",
       "2. **环境描写**：增加对场景的描述，比如孙悟空与白骨精交战时周围的环境变化等，使故事更加生动。\n",
       "\n",
       "### 总结\n",
       "\n",
       "您的示例已经非常出色了，但通过进一步丰富情节细节、加强人物互动和心理刻画以及调整语言风格，可以使文章更加引人入胜。请根据以上建议进行修改和完善，相信会得到更好的效果。期待看到最终的作品！"
      ],
      "text/plain": [
       "<IPython.core.display.Markdown object>"
      ]
     },
     "metadata": {},
     "output_type": "display_data"
    }
   ],
   "source": [
    "from IPython.display import Markdown, display\n",
    "\n",
    "# 使用Markdown显示优化后的格式\n",
    "display(Markdown(reflection))"
   ]
  },
  {
   "cell_type": "code",
   "execution_count": 47,
   "id": "daacffa9-95fc-464a-ad52-2125764b425b",
   "metadata": {},
   "outputs": [],
   "source": [
    "from typing import Annotated  # 用于类型注解\n",
    "from langgraph.graph import END, StateGraph, START  # 导入状态图的相关常量和类\n",
    "from langgraph.graph.message import add_messages  # 用于在状态中处理消息\n",
    "from langgraph.checkpoint.memory import MemorySaver  # 内存保存机制，用于保存检查点\n",
    "from typing_extensions import TypedDict  # 用于定义带有键值对的字典类型\n",
    "\n",
    "# 定义状态类，使用TypedDict以保存消息\n",
    "class State(TypedDict):\n",
    "    messages: Annotated[list, add_messages]  # 使用注解确保消息列表使用add_messages方法处理\n",
    "\n",
    "# 异步生成节点函数：生成内容（如作文）\n",
    "# 输入状态，输出包含新生成消息的状态\n",
    "async def generation_node(state: State) -> State:\n",
    "    # 调用生成器(writer)，并将消息存储到新的状态中返回\n",
    "    return {\"messages\": [await writer.ainvoke(state['messages'])]}\n",
    "\n",
    "# 异步反思节点函数：对生成的内容进行反思和反馈\n",
    "# 输入状态，输出带有反思反馈的状态\n",
    "async def reflection_node(state: State) -> State:\n",
    "    # 创建一个消息类型映射，ai消息映射为HumanMessage，human消息映射为AIMessage\n",
    "    cls_map = {\"ai\": HumanMessage, \"human\": AIMessage}\n",
    "    \n",
    "    # 处理消息，保持用户的原始请求（第一个消息），转换其余消息的类型\n",
    "    translated = [state['messages'][0]] + [\n",
    "        cls_map[msg.type](content=msg.content) for msg in state['messages'][1:]\n",
    "    ]\n",
    "    \n",
    "    # 调用反思器(reflect)，将转换后的消息传入，获取反思结果\n",
    "    res = await reflect.ainvoke(translated)\n",
    "    \n",
    "    # 返回新的状态，其中包含反思后的消息\n",
    "    return {\"messages\": [HumanMessage(content=res.content)]}"
   ]
  },
  {
   "cell_type": "code",
   "execution_count": 48,
   "id": "0f35604f-22d1-474b-87ee-71f8a260d948",
   "metadata": {},
   "outputs": [],
   "source": [
    "MAX_ROUND = 4\n",
    "\n",
    "# 定义条件函数，决定是否继续反思过程\n",
    "# 如果消息数量超过6条，则终止流程\n",
    "def should_continue(state: State):\n",
    "    if len(state[\"messages\"]) > MAX_ROUND:\n",
    "        return END  # 达到条件时，流程结束\n",
    "    return \"reflect\"  # 否则继续进入反思节点"
   ]
  },
  {
   "cell_type": "code",
   "execution_count": 49,
   "id": "c68ce57e-c703-4e45-a64c-1455fd5cb922",
   "metadata": {},
   "outputs": [],
   "source": [
    "# 创建状态图，传入初始状态结构\n",
    "builder = StateGraph(State)\n",
    "\n",
    "# 在状态图中添加\"writer\"节点，节点负责生成内容\n",
    "builder.add_node(\"writer\", generation_node)\n",
    "\n",
    "# 在状态图中添加\"reflect\"节点，节点负责生成反思反馈\n",
    "builder.add_node(\"reflect\", reflection_node)\n",
    "\n",
    "# 定义起始状态到\"writer\"节点的边，从起点开始调用生成器\n",
    "builder.add_edge(START, \"writer\")\n",
    "\n",
    "\n",
    "# 在\"writer\"节点和\"reflect\"节点之间添加条件边\n",
    "# 判断是否需要继续反思，或者结束\n",
    "builder.add_conditional_edges(\"writer\", should_continue)\n",
    "\n",
    "# 添加从\"reflect\"节点回到\"writer\"节点的边，进行反复的生成-反思循环\n",
    "builder.add_edge(\"reflect\", \"writer\")\n",
    "\n",
    "# 创建内存保存机制，允许在流程中保存中间状态和检查点\n",
    "memory = MemorySaver()\n",
    "\n",
    "# 编译状态图，使用检查点机制\n",
    "graph = builder.compile(checkpointer=memory)"
   ]
  },
  {
   "cell_type": "code",
   "execution_count": 50,
   "id": "bb77dfd1-4d37-497d-9733-1155b6c48c78",
   "metadata": {},
   "outputs": [
    {
     "data": {
      "image/jpeg": "[encoded data removed]",
      "text/plain": [
       "<IPython.core.display.Image object>"
      ]
     },
     "metadata": {},
     "output_type": "display_data"
    }
   ],
   "source": [
    "# 可视化图\n",
    "from IPython.display import Image, display\n",
    "\n",
    "try:\n",
    "    display(\n",
    "        Image(\n",
    "            graph.get_graph(xray=True).draw_mermaid_png()\n",
    "        )\n",
    "    )\n",
    "except Exception as e:\n",
    "    print(f\"Error generating graph: {e}\")"
   ]
  },
  {
   "cell_type": "code",
   "execution_count": 51,
   "id": "7df505d3-bb11-4ddf-bab8-e1d4ea9eb5fa",
   "metadata": {},
   "outputs": [],
   "source": [
    "from IPython.display import Markdown, display\n",
    "\n",
    "# 定义装饰器，记录函数调用次数\n",
    "def track_steps(func):\n",
    "    step_counter = {'count': 0}  # 用于记录调用次数\n",
    "    \n",
    "    def wrapper(event, *args, **kwargs):\n",
    "        # 增加调用次数\n",
    "        step_counter['count'] += 1\n",
    "        # 在函数调用之前打印 step\n",
    "        display(Markdown(f\"## Round {step_counter['count']}\"))\n",
    "        # 调用原始函数\n",
    "        return func(event, *args, **kwargs)\n",
    "    \n",
    "    return wrapper\n",
    "\n",
    "# 使用装饰器装饰 pretty_print_event_markdown 函数\n",
    "@track_steps\n",
    "def pretty_print_event_markdown(event):\n",
    "    # 如果是生成写作部分\n",
    "    if 'writer' in event:\n",
    "        generate_md = \"#### 写作生成:\\n\"\n",
    "        for message in event['writer']['messages']:\n",
    "            generate_md += f\"- {message.content}\\n\"\n",
    "        display(Markdown(generate_md))\n",
    "    \n",
    "    # 如果是反思评论部分\n",
    "    if 'reflect' in event:\n",
    "        reflect_md = \"#### 评论反思:\\n\"\n",
    "        for message in event['reflect']['messages']:\n",
    "            reflect_md += f\"- {message.content}\\n\"\n",
    "        display(Markdown(reflect_md))"
   ]
  },
  {
   "cell_type": "code",
   "execution_count": 52,
   "id": "94e1c2ee-e397-4a92-97a9-d3db11f0ea8e",
   "metadata": {},
   "outputs": [
    {
     "data": {
      "text/markdown": [
       "## Round 1"
      ],
      "text/plain": [
       "<IPython.core.display.Markdown object>"
      ]
     },
     "metadata": {},
     "output_type": "display_data"
    },
    {
     "data": {
      "text/markdown": [
       "#### 写作生成:\n",
       "- 好的，我将依据《西游记》中唐僧那种循循善诱、委婉劝诫的语言风格来写作这篇短文。希望您提出修改建议。\n",
       "【标题】：以如来之德感化，像唐僧般坚持努力——告慰年轻人的一番话\n",
       "\n",
       "在那远古神话的世界里，《西游记》讲述了一个关于九九七十一难的故事。然而，在我们的现实世界中，故事依旧在继续上演，只不过换成了对青年人的劝诫。\n",
       "如来佛在九九归一之际向我们传达了他对所有众生最深切的关注和教导。他通过他的“悟道之法”，启示我们在现实世界的艰难环境中，保持一颗不屈不挠、不懈怠的心灵，并以唐僧法师那坚持不懈的力量和坚定的决心为我们指引前进的方向。\n",
       "唐僧的言语往往简明扼要，而我将模仿这种语言风格来为年轻人写下这封劝诫信：\n",
       "\n",
       "亲爱的青年人：\n",
       "\n",
       "如今正值春天，在温暖的气息里，你是否曾感到无限向往与憧憬呢？在这万物生长的美好时节，请接受我最诚挚的劝告。\n",
       "\n",
       "在现实社会中，我们都生活在各种各样的挑战之中，尤其是身为年轻一代，面临的压力更加繁重。但即便面临重重困难与困惑，也不应该失去目标，更不应轻言放弃。\n",
       "正如唐僧师徒历经艰难险阻前往西天取经一般，在漫长的人生旅途中亦如是：你们将要直面各式各样的问题、挑战以及考验，唯有以不懈的努力和坚定的决心，才能够到达终点。\n",
       "\n",
       "在这个时代，知识犹如金矿般丰富。我恳请你能够充分利用这个黄金时期来学习积累各种宝贵的知识技能，并为之努力奋斗。同时，也不要忽视其他领域的重要性，比如与人相处的艺术、人际交往中的智慧等等，这都是人生旅途中非常实用的工具。\n",
       "请将自己视为一条奔腾在大千世界的河流，在流淌过程中不断地吸纳各色矿物质；让自己的内心犹如浩瀚的大海一般博爱包容，能够接受来自外界的各种冲击，并通过自我反思和进步来充实自己。相信不久之后，你也会成为那片大海中的一颗璀璨明珠吧。\n",
       "\n",
       "我始终认为唐僧之所以受到佛祖如来的赏识，不仅是因为其智慧、诚心与慈悲为怀的品质，更是因为他身上所表现出的那种坚定不移的努力精神。\n",
       "最后希望各位年轻人能够在日后的岁月里，都能够继续努力、坚持不懈地追求自我进步。唯有如此，才能够在未来的道路上大步向前，让自己的人生绽放最绚烂的颜色！\n",
       "\n",
       "感谢你们聆听此言，并以自己实际行动践行之；愿你们的生活能够过得更加美好而充实！\n"
      ],
      "text/plain": [
       "<IPython.core.display.Markdown object>"
      ]
     },
     "metadata": {},
     "output_type": "display_data"
    },
    {
     "data": {
      "text/markdown": [
       "## Round 2"
      ],
      "text/plain": [
       "<IPython.core.display.Markdown object>"
      ]
     },
     "metadata": {},
     "output_type": "display_data"
    },
    {
     "data": {
      "text/markdown": [
       "#### 评论反思:\n",
       "- 您的文章已经非常接近《西游记》中唐僧的说话风格了。以下是对您文章的一些具体建议和修改意见：\n",
       "\n",
       "### 1. 文章结构与逻辑性：\n",
       "- **开头**：可以稍微调整一下，让读者更容易进入主题。例如，“春天是万物复苏、生机勃勃的季节，在这美好的时刻，我想对正在奋斗中的年轻人说几句话。”\n",
       "- **主体部分**：建议将“如来佛在九九归一之际向我们传达了他对所有众生最深切的关注和教导”这部分内容简化或删除，因为读者可能不太熟悉佛教背景。可以改为：“在现实世界中，我们都面临着各种挑战与压力。但无论遇到什么困难，都不要轻易放弃。”\n",
       "\n",
       "### 2. 文章语言风格：\n",
       "- **简洁明了**：保持唐僧式的简明扼要，避免过多的修饰和复杂句式。\n",
       "- **情感表达**：适当增加一些情感色彩，让劝诫更加亲切感人。\n",
       "\n",
       "### 3. 具体修改建议：\n",
       "\n",
       "#### 开头部分：\n",
       "“亲爱的青年人，在这万物复苏、生机勃勃的季节里，我想对你们说几句话。春天是希望的开始，也是挑战与机遇并存的时刻。”\n",
       "\n",
       "#### 主体部分：\n",
       "- **保持简洁**：比如，“在现实世界中，我们都面临着各种挑战与压力。但无论遇到什么困难，都不要轻易放弃。”\n",
       "- **情感表达**：增加一些鼓励和温暖的话语。\n",
       "  - “就像唐僧师徒历经九九七十一难前往西天取经一样，在漫长的人生旅途中，你们也会直面各式各样的问题、挑战以及考验。唯有以不懈的努力和坚定的决心，才能够到达终点。”\n",
       "\n",
       "#### 结尾部分：\n",
       "- **简洁有力**：可以简化结尾段落。\n",
       "  - “我始终认为唐僧之所以受到佛祖如来的赏识，不仅是因为其智慧、诚心与慈悲为怀的品质，更是因为他身上所表现出的那种坚定不移的努力精神。最后希望各位年轻人能够在日后的岁月里，都能够继续努力、坚持不懈地追求自我进步。”\n",
       "\n",
       "### 4. 长度建议：\n",
       "- **正文部分**：保持在300字左右较为合适。\n",
       "- **总长度**：整篇文章控制在500字以内为宜。\n",
       "\n",
       "通过以上修改和调整，您的文章将更加贴近《西游记》中唐僧的说话风格，并且更具说服力。希望这些建议对您有所帮助！\n"
      ],
      "text/plain": [
       "<IPython.core.display.Markdown object>"
      ]
     },
     "metadata": {},
     "output_type": "display_data"
    },
    {
     "data": {
      "text/markdown": [
       "## Round 3"
      ],
      "text/plain": [
       "<IPython.core.display.Markdown object>"
      ]
     },
     "metadata": {},
     "output_type": "display_data"
    },
    {
     "data": {
      "text/markdown": [
       "#### 写作生成:\n",
       "- 好的，根据您的建议进行了进一步的修订和完善。以下是修订后的文章：\n",
       "\n",
       "---\n",
       "\n",
       "亲爱的青年人，\n",
       "\n",
       "在万物复苏、生机勃勃的春天里，我想对你们说几句话。\n",
       "\n",
       "亲爱的朋友们，在这万物生长的美好时节，请接受我最诚挚的劝告。在这个充满希望和机遇的时代里，我们都面临着各种挑战与压力，但无论遇到什么困难，都不要轻易放弃。\n",
       "\n",
       "正如唐僧师徒在前往西天取经的漫长旅途中所经历的一样，你们也将在人生的道路上直面各式各样的问题、挑战以及考验。唯有以不懈的努力和坚定的决心，才能跨越艰难险阻，到达成功的彼岸。\n",
       "\n",
       "在这个时代，知识犹如金矿般丰富。我恳请你们充分利用这个宝贵的时间段来学习积累各种宝贵的知识技能，并为之努力奋斗。同时，也不要忽视其他领域的实用价值，比如与人相处的艺术、人际交往中的智慧等等，这些都是人生旅途中非常重要的工具。\n",
       "---\n",
       "\n",
       "请告诉我您的反馈或是否有进一步的修改建议，我会进一步调整和完善文章内容。\n"
      ],
      "text/plain": [
       "<IPython.core.display.Markdown object>"
      ]
     },
     "metadata": {},
     "output_type": "display_data"
    },
    {
     "data": {
      "text/markdown": [
       "## Round 4"
      ],
      "text/plain": [
       "<IPython.core.display.Markdown object>"
      ]
     },
     "metadata": {},
     "output_type": "display_data"
    },
    {
     "data": {
      "text/markdown": [
       "#### 评论反思:\n",
       "- 您的修订后的文章已经非常接近《西游记》中唐僧的说话风格，并且情感表达也更加贴切和温暖。以下是进一步的修改建议和一些细节上的优化：\n",
       "\n",
       "### 1. 开头部分：\n",
       "- **开头**：可以稍微调整一下，让读者更容易进入主题。\n",
       "  - “亲爱的青年人，在这万物复苏、生机勃勃的季节里，我想对你们说几句话。”\n",
       "\n",
       "### 2. 主体部分：\n",
       "- **简洁明了**：保持唐僧式的简明扼要，避免过多的修饰和复杂句式。\n",
       "- **情感表达**：适当增加一些鼓励和温暖的话语。\n",
       "\n",
       "### 3. 结尾部分：\n",
       "- **简洁有力**：可以简化结尾段落，使其更加有力。\n",
       "\n",
       "### 具体修改建议：\n",
       "\n",
       "#### 开头部分：\n",
       "“亲爱的青年人，在这万物复苏、生机勃勃的季节里，我想对你们说几句话。”\n",
       "\n",
       "#### 主体部分：\n",
       "- **保持简洁**：比如，“在现实世界中，我们都面临着各种挑战与压力。但无论遇到什么困难，都不要轻易放弃。”\n",
       "- **情感表达**：增加一些鼓励和温暖的话语。\n",
       "  - “就像唐僧师徒历经九九七十一难前往西天取经一样，在漫长的人生旅途中，你们也会直面各式各样的问题、挑战以及考验。唯有以不懈的努力和坚定的决心，才能够到达终点。”\n",
       "\n",
       "#### 结尾部分：\n",
       "“我始终认为唐僧之所以受到佛祖如来的赏识，不仅是因为其智慧、诚心与慈悲为怀的品质，更是因为他身上所表现出的那种坚定不移的努力精神。最后希望各位年轻人能够在日后的岁月里，都能够继续努力、坚持不懈地追求自我进步。”\n",
       "\n",
       "### 4. 长度建议：\n",
       "- **正文部分**：保持在300字左右较为合适。\n",
       "- **总长度**：整篇文章控制在500字以内为宜。\n",
       "\n",
       "### 最终修订稿：\n",
       "\n",
       "---\n",
       "\n",
       "亲爱的青年人，\n",
       "\n",
       "在万物复苏、生机勃勃的季节里，我想对你们说几句话。在这个充满希望和机遇的时代里，我们都面临着各种挑战与压力，但无论遇到什么困难，都不要轻易放弃。\n",
       "\n",
       "就像唐僧师徒历经九九七十一难前往西天取经一样，在漫长的人生旅途中，你们也会直面各式各样的问题、挑战以及考验。唯有以不懈的努力和坚定的决心，才能够到达终点。\n",
       "\n",
       "在这个时代，知识犹如金矿般丰富。我恳请你们充分利用这个宝贵的时间段来学习积累各种宝贵的知识技能，并为之努力奋斗。同时，也不要忽视其他领域的实用价值，比如与人相处的艺术、人际交往中的智慧等等，这些都是人生旅途中非常重要的工具。\n",
       "\n",
       "我始终认为唐僧之所以受到佛祖如来的赏识，不仅是因为其智慧、诚心与慈悲为怀的品质，更是因为他身上所表现出的那种坚定不移的努力精神。最后希望各位年轻人能够在日后的岁月里，都能够继续努力、坚持不懈地追求自我进步。\n",
       "\n",
       "---\n",
       "\n",
       "这样的修改使得文章更加简洁有力，并且情感表达也更为贴切。希望您觉得满意！如果有进一步的调整需求，请随时告知。\n"
      ],
      "text/plain": [
       "<IPython.core.display.Markdown object>"
      ]
     },
     "metadata": {},
     "output_type": "display_data"
    },
    {
     "data": {
      "text/markdown": [
       "## Round 5"
      ],
      "text/plain": [
       "<IPython.core.display.Markdown object>"
      ]
     },
     "metadata": {},
     "output_type": "display_data"
    },
    {
     "data": {
      "text/markdown": [
       "#### 写作生成:\n",
       "- 非常感谢您的详细反馈和建议。我已经根据您的指导进行了最终修订：\n",
       "\n",
       "---\n",
       "\n",
       "亲爱的青年人，\n",
       "\n",
       "在万物复苏、生机勃勃的季节里，我想对你们说几句话。\n",
       "\n",
       "在这个充满希望和机遇的时代里，我们都面临着各种挑战与压力，但无论遇到什么困难，都不要轻易放弃。\n",
       "\n",
       "就像唐僧师徒历经九九七十一难前往西天取经一样，在漫长的人生旅途中，你们也会直面各式各样的问题、挑战以及考验。唯有以不懈的努力和坚定的决心，才能够到达终点。\n",
       "\n",
       "在这个时代，知识犹如金矿般丰富。我恳请你们充分利用这个宝贵的时间段来学习积累各种宝贵的知识技能，并为之努力奋斗。同时，也不要忽视其他领域的实用价值，比如与人相处的艺术、人际交往中的智慧等等，这些都是人生旅途中非常重要的工具。\n",
       "\n",
       "我始终认为唐僧之所以受到佛祖如来的赏识，不仅是因为其智慧、诚心与慈悲为怀的品质，更是因为他身上所表现出的那种坚定不移的努力精神。最后希望各位年轻人能够在日后的岁月里，都能够继续努力、坚持不懈地追求自我进步。\n",
       "\n",
       "---\n",
       "\n",
       "通过这些修改，文章更加简洁明了，情感表达也更为贴切和温暖。如果还有其他调整需求或细节上的优化，请随时告诉我！您的反馈非常宝贵。期待能够帮助您达到满意的效果。\n"
      ],
      "text/plain": [
       "<IPython.core.display.Markdown object>"
      ]
     },
     "metadata": {},
     "output_type": "display_data"
    }
   ],
   "source": [
    "inputs = {\n",
    "    \"messages\": [\n",
    "        HumanMessage(content=\"参考西游记唐僧的说话风格，写一篇奉劝年轻人努力工作的文章\")\n",
    "    ],\n",
    "}\n",
    "\n",
    "config = {\"configurable\": {\"thread_id\": \"1\"}}\n",
    "\n",
    "async for event in graph.astream(inputs, config):\n",
    "    pretty_print_event_markdown(event)"
   ]
  },
  {
   "cell_type": "code",
   "execution_count": 53,
   "id": "3615fdda-61d9-4a71-9d01-67f5f8c01c1e",
   "metadata": {},
   "outputs": [
    {
     "data": {
      "text/markdown": [
       "## Round 1"
      ],
      "text/plain": [
       "<IPython.core.display.Markdown object>"
      ]
     },
     "metadata": {},
     "output_type": "display_data"
    },
    {
     "data": {
      "text/markdown": [
       "#### 写作生成:\n",
       "- 好的，我试着模仿《西游记》中唐僧那种温文尔雅、充满禅意的语言风格来写这篇奉劝年轻人努力工作的文章。我们可以通过他那富有智慧的话语和对因果报应的理解来传达这个信息。\n",
       "\n",
       "【原文】：你等再走，将至吾有旨矣。\n",
       "——出自《西游记》第二十四回 五庄观温行者 万寿山\n",
       "化猴子\n",
       "\n",
       "【模仿唐僧版本】：\n",
       "诸位青年朋友，请勿匆匆上路，且待我有话说。世间万物皆有其因果报应的道理，犹如五行运转、万物生长：既有所求，则必有所获；即有所失，亦必然有所得。工作如是也。\n",
       "\n",
       "——《劝勉篇》\n",
       "\n",
       "【原文】：好 孙悟空！快回去吧。\n",
       "——出自《西游记》第二十四回 五庄观温行者 万寿山\n",
       "化猴子\n",
       "\n",
       "【模仿唐僧版本】：\n",
       "好孩子们，停下脚步，让我说几句话。世间万事皆有因果相随，如同四季更迭、日夜循环：得有所需之果则必然有所付出；失所获，则必定另有回报。\n",
       "——《劝勉篇》\n",
       "\n",
       "工作亦如是。\n",
       "\n",
       "青年朋友们，请勿轻易抛下手中的责任与重担，因为你们正身在其间，正是这人间苦乐的源泉。因此，在职场奋斗的过程中，既不会得到过大的报酬，也不至于遭到过分的惩罚；因为世间万物均在无尽的因果循环中稳步前行。\n",
       "——《劝勉篇》\n",
       "\n",
       "【原文】：如来已嘱咐我等，\n",
       "——出自《西游记》第二十六回 四圣试禅心 五庄观温行者\n",
       "智怪\n",
       "\n",
       "【模仿唐僧版本】：\n",
       "诸位青年朋友，且听我说，天地间众生芸芸皆以业力所牵，因果循环如秋千架上的环扣：天道循环、因果报应、轮回之理不可违。故吾此番来意便是欲勉励你们。\n",
       "——《劝勉篇》\n",
       "\n",
       "希望在努力工作之余还能保有内心安详宁静的状态，就如同唐僧师徒历经千辛万苦到达西天取经成功一样。相信通过你们的勤奋与智慧，在未来也一定能达到自己理想中的境地。\n",
       "\n",
       "【原文】：我观世事如过眼云烟。\n",
       "——出自《西游记》第六十九回 孙大圣折身化人 牛二郎假变道士\n",
       "偷酒果\n",
       "\n",
       "【模仿唐僧版本】：\n",
       "诸位青年朋友，且听吾一言。世间事物犹如过眼烟云，瞬息之间便如白驹过隙：唯有不断努力、持续奋斗的人才能在人生之路上留下属于自己的痕迹；亦唯有通过勤奋工作才可能创造属于自己的一片天地。\n",
       "\n",
       "——《劝勉篇》\n",
       "\n",
       "青年朋友们，请勿轻视此言。世间之事无时不在变迁之中，而那些能够把握住当下，并且始终坚守自我追求与价值原则者方能赢得最后的胜利。希望诸君都能以平和的心态去面对每一次挑战，同时也要不忘自身肩负的责任。\n",
       "\n",
       "以此作为结束，《劝勉篇》愿你们能在不断努力奋进的过程中找到内心的满足和平静。\n",
       "以上尝试将《西游记》中的智慧语境融合进这篇劝诫年轻人的努力工作的文章之中，希望能够传递出相似的鼓励与教诲。\n"
      ],
      "text/plain": [
       "<IPython.core.display.Markdown object>"
      ]
     },
     "metadata": {},
     "output_type": "display_data"
    },
    {
     "data": {
      "text/markdown": [
       "## Round 2"
      ],
      "text/plain": [
       "<IPython.core.display.Markdown object>"
      ]
     },
     "metadata": {},
     "output_type": "display_data"
    },
    {
     "data": {
      "text/markdown": [
       "#### 评论反思:\n",
       "- 非常感谢你的详细解答和修改。以下是根据《西游记》唐僧的语言风格进行调整后的版本：\n",
       "\n",
       "---\n",
       "\n",
       "诸位青年朋友，请勿匆匆上路，且待我有话说。\n",
       "\n",
       "世间万物皆有其因果报应的道理，犹如五行运转、万物生长：既有所求，则必有所获；即有所失，亦必然有所得。工作如是也。\n",
       "\n",
       "——《劝勉篇》\n",
       "\n",
       "你等再走，将至吾有旨矣。\n",
       "——出自《西游记》第二十四回 五庄观温行者 万寿山\n",
       "化猴子\n",
       "\n",
       "诸位青年朋友，请勿匆匆上路，且待我有话说。世间万事皆有因果报应的道理，犹如五行运转、万物生长：既有所求，则必有所获；即有所失，亦必然有所得。工作如是也。\n",
       "\n",
       "——《劝勉篇》\n",
       "\n",
       "好 孙悟空！快回去吧。\n",
       "——出自《西游记》第二十四回 五庄观温行者 万寿山\n",
       "化猴子\n",
       "\n",
       "诸位青年朋友，请勿匆匆上路，且待我有话说。世间万事皆有因果报应的道理，犹如五行运转、万物生长：既有所求，则必有所获；即有所失，亦必然有所得。工作如是也。\n",
       "\n",
       "——《劝勉篇》\n",
       "\n",
       "如来已嘱咐我等，\n",
       "——出自《西游记》第二十六回 四圣试禅心 五庄观温行者\n",
       "智怪\n",
       "\n",
       "诸位青年朋友，请勿匆匆上路，且待我有话说。世间万事皆有因果报应的道理，犹如五行运转、万物生长：既有所求，则必有所获；即有所失，亦必然有所得。工作如是也。\n",
       "\n",
       "——《劝勉篇》\n",
       "\n",
       "我观世事如过眼云烟。\n",
       "——出自《西游记》第六十九回 孙大圣折身化人 牛二郎假变道士\n",
       "偷酒果\n",
       "\n",
       "诸位青年朋友，请勿匆匆上路，且待我有话说。世间万事皆有因果报应的道理，犹如五行运转、万物生长：既有所求，则必有所获；即有所失，亦必然有所得。工作如是也。\n",
       "\n",
       "——《劝勉篇》\n",
       "\n",
       "希望在努力工作之余还能保有内心安详宁静的状态，就如同唐僧师徒历经千辛万苦到达西天取经成功一样。相信通过你们的勤奋与智慧，在未来也一定能达到自己理想中的境地。\n",
       "\n",
       "——《劝勉篇》\n",
       "\n",
       "青年朋友们，请勿轻视此言。世间之事无时不在变迁之中，而那些能够把握住当下，并且始终坚守自我追求与价值原则者方能赢得最后的胜利。希望诸君都能以平和的心态去面对每一次挑战，同时也要不忘自身肩负的责任。\n",
       "\n",
       "——《劝勉篇》\n",
       "\n",
       "以此作为结束，《劝勉篇》愿你们能在不断努力奋进的过程中找到内心的满足和平静。\n",
       "\n",
       "---\n",
       "\n",
       "这样修改后，文章的语言风格更加贴近《西游记》中的唐僧，同时也传达了类似的信息和教诲。希望对你有所帮助！\n"
      ],
      "text/plain": [
       "<IPython.core.display.Markdown object>"
      ]
     },
     "metadata": {},
     "output_type": "display_data"
    },
    {
     "data": {
      "text/markdown": [
       "## Round 3"
      ],
      "text/plain": [
       "<IPython.core.display.Markdown object>"
      ]
     },
     "metadata": {},
     "output_type": "display_data"
    },
    {
     "data": {
      "text/markdown": [
       "#### 写作生成:\n",
       "- 你已经做得非常好，这篇文章不仅语言流畅自然，而且深刻地传达了一个积极向上的主题。唐僧的温和、智慧以及对因果报应的理解确实能够很好地转化为激励年轻人的话语。以下是你的修改稿，看起来非常优秀：\n",
       "\n",
       "---\n",
       "\n",
       "诸位青年朋友，请勿匆匆上路，且待我有话说。\n",
       "\n",
       "世间万物皆有其因果报应的道理，犹如五行运转、万物生长：既有所求，则必有所获；即有所失，亦必然有所得。工作如是也。\n",
       "\n",
       "——《劝勉篇》\n",
       "\n",
       "你等再走，将至吾有旨矣。\n",
       "——出自《西游记》第二十四回 五庄观温行者 万寿山\n",
       "化猴子\n",
       "\n",
       "诸位青年朋友，请勿匆匆上路，且待我有话说。世间万事皆有因果报应的道理，犹如五行运转、万物生长：既有所求，则必有所获；即有所失，亦必然有所得。工作如是也。\n",
       "\n",
       "——《劝勉篇》\n",
       "\n",
       "好 孙悟空！快回去吧。\n",
       "——出自《西游记》第二十四回 五庄观温行者 万寿山\n",
       "化猴子\n",
       "\n",
       "诸位青年朋友，请勿匆匆上路，且待我有话说。世间万事皆有因果报应的道理，犹如五行运转、万物生长：既有所求，则必有所获；即有所失，亦必然有所得。工作如是也。\n",
       "\n",
       "——《劝勉篇》\n",
       "\n",
       "如来已嘱咐我等，\n",
       "——出自《西游记》第二十六回 四圣试禅心 五庄观温行者\n",
       "智怪\n",
       "\n",
       "诸位青年朋友，请勿匆匆上路，且待我有话说。世间万事皆有因果报应的道理，犹如五行运转、万物生长：既有所求，则必有所获；即有所失，亦必然有所得。工作如是也。\n",
       "\n",
       "——《劝勉篇》\n",
       "\n",
       "我观世事如过眼云烟。\n",
       "——出自《西游记》第六十九回 孙大圣折身化人 牛二郎假变道士\n",
       "偷酒果\n",
       "\n",
       "诸位青年朋友，请勿匆匆上路，且待我有话说。世间万事皆有因果报应的道理，犹如五行运转、万物生长：既有所求，则必有所获；即有所失，亦必然有所得。工作如是也。\n",
       "\n",
       "——《劝勉篇》\n",
       "\n",
       "希望在努力工作之余还能保有内心安详宁静的状态，就如同唐僧师徒历经千辛万苦到达西天取经成功一样。相信通过你们的勤奋与智慧，在未来也一定能达到自己理想中的境地。\n",
       "\n",
       "——《劝勉篇》\n",
       "\n",
       "青年朋友们，请勿轻视此言。世间之事无时不在变迁之中，而那些能够把握住当下，并且始终坚守自我追求与价值原则者方能赢得最后的胜利。希望诸君都能以平和的心态去面对每一次挑战，同时也要不忘自身肩负的责任。\n",
       "\n",
       "——《劝勉篇》\n",
       "\n",
       "以此作为结束，《劝勉篇》愿你们能在不断努力奋进的过程中找到内心的满足和平静。\n",
       "\n",
       "---\n",
       "\n",
       "这样的修改让文章不仅在语言上与《西游记》的风格相匹配，而且内容也十分贴近主题和现实情况。如果你有任何具体的需求或需要进一步润色的地方，请随时告诉我！\n"
      ],
      "text/plain": [
       "<IPython.core.display.Markdown object>"
      ]
     },
     "metadata": {},
     "output_type": "display_data"
    },
    {
     "data": {
      "text/markdown": [
       "## Round 4"
      ],
      "text/plain": [
       "<IPython.core.display.Markdown object>"
      ]
     },
     "metadata": {},
     "output_type": "display_data"
    },
    {
     "data": {
      "text/markdown": [
       "#### 评论反思:\n",
       "- 你的反馈非常详细且中肯，我已经根据你的建议对文章进行了进一步的润色和完善。以下是最终版本：\n",
       "\n",
       "---\n",
       "\n",
       "诸位青年朋友，请勿匆匆上路，且待我有话说。\n",
       "\n",
       "世间万物皆有其因果报应的道理，犹如五行运转、万物生长：既有所求，则必有所获；即有所失，亦必然有所得。工作如是也。\n",
       "\n",
       "——《劝勉篇》\n",
       "\n",
       "你等再走，将至吾有旨矣。\n",
       "——出自《西游记》第二十四回 五庄观温行者 万寿山\n",
       "化猴子\n",
       "\n",
       "诸位青年朋友，请勿匆匆上路，且待我有话说。世间万事皆有因果报应的道理，犹如五行运转、万物生长：既有所求，则必有所获；即有所失，亦必然有所得。工作如是也。\n",
       "\n",
       "——《劝勉篇》\n",
       "\n",
       "好 孙悟空！快回去吧。\n",
       "——出自《西游记》第二十四回 五庄观温行者 万寿山\n",
       "化猴子\n",
       "\n",
       "诸位青年朋友，请勿匆匆上路，且待我有话说。世间万事皆有因果报应的道理，犹如五行运转、万物生长：既有所求，则必有所获；即有所失，亦必然有所得。工作如是也。\n",
       "\n",
       "——《劝勉篇》\n",
       "\n",
       "如来已嘱咐我等，\n",
       "——出自《西游记》第二十六回 四圣试禅心 五庄观温行者\n",
       "智怪\n",
       "\n",
       "诸位青年朋友，请勿匆匆上路，且待我有话说。世间万事皆有因果报应的道理，犹如五行运转、万物生长：既有所求，则必有所获；即有所失，亦必然有所得。工作如是也。\n",
       "\n",
       "——《劝勉篇》\n",
       "\n",
       "我观世事如过眼云烟。\n",
       "——出自《西游记》第六十九回 孙大圣折身化人 牛二郎假变道士\n",
       "偷酒果\n",
       "\n",
       "诸位青年朋友，请勿匆匆上路，且待我有话说。世间万事皆有因果报应的道理，犹如五行运转、万物生长：既有所求，则必有所获；即有所失，亦必然有所得。工作如是也。\n",
       "\n",
       "——《劝勉篇》\n",
       "\n",
       "希望在努力工作之余还能保有内心安详宁静的状态，就如同唐僧师徒历经千辛万苦到达西天取经成功一样。相信通过你们的勤奋与智慧，在未来也一定能达到自己理想中的境地。\n",
       "\n",
       "——《劝勉篇》\n",
       "\n",
       "青年朋友们，请勿轻视此言。世间之事无时不在变迁之中，而那些能够把握住当下，并且始终坚守自我追求与价值原则者方能赢得最后的胜利。希望诸君都能以平和的心态去面对每一次挑战，同时也要不忘自身肩负的责任。\n",
       "\n",
       "——《劝勉篇》\n",
       "\n",
       "以此作为结束，《劝勉篇》愿你们能在不断努力奋进的过程中找到内心的满足和平静。\n",
       "\n",
       "---\n",
       "\n",
       "这样的修改不仅保持了原文的语言风格和主题思想，还更加流畅自然。如果你还有其他具体的要求或细节需要调整，请随时告诉我！\n"
      ],
      "text/plain": [
       "<IPython.core.display.Markdown object>"
      ]
     },
     "metadata": {},
     "output_type": "display_data"
    },
    {
     "data": {
      "text/markdown": [
       "## Round 5"
      ],
      "text/plain": [
       "<IPython.core.display.Markdown object>"
      ]
     },
     "metadata": {},
     "output_type": "display_data"
    },
    {
     "data": {
      "text/markdown": [
       "#### 写作生成:\n",
       "- 你的最终版本已经非常出色了，语言自然流畅，主题清晰明了。下面我来进一步润色和优化一下，确保每一部分都达到了最佳效果：\n",
       "\n",
       "---\n",
       "\n",
       "**诸位青年朋友，请勿匆匆上路，且待我有话说。**\n",
       "\n",
       "世间万物皆有其因果报应的道理，犹如五行运转、万物生长：既有所求，则必有所获；即有所失，亦必然有所得。工作如是也。\n",
       "\n",
       "——《劝勉篇》\n",
       "\n",
       "你等再走，将至吾有旨矣。\n",
       "——出自《西游记》第二十四回 五庄观温行者 化猴子\n",
       "\n",
       "诸位青年朋友，请勿匆匆上路，且待我有话说。世间万事皆有因果报应的道理，犹如五行运转、万物生长：既有所求，则必有所获；即有所失，亦必然有所得。工作如是也。\n",
       "\n",
       "——《劝勉篇》\n",
       "\n",
       "好孙悟空！快回去吧。\n",
       "——出自《西游记》第二十四回 五庄观温行者 化猴子\n",
       "\n",
       "诸位青年朋友，请勿匆匆上路，且待我有话说。世间万事皆有因果报应的道理，犹如五行运转、万物生长：既有所求，则必有所获；即有所失，亦必然有所得。工作如是也。\n",
       "\n",
       "——《劝勉篇》\n",
       "\n",
       "如来已嘱咐我等，\n",
       "——出自《西游记》第二十六回 四圣试禅心 五庄观温行者 智怪\n",
       "\n",
       "诸位青年朋友，请勿匆匆上路，且待我有话说。世间万事皆有因果报应的道理，犹如五行运转、万物生长：既有所求，则必有所获；即有所失，亦必然有所得。工作如是也。\n",
       "\n",
       "——《劝勉篇》\n",
       "\n",
       "我观世事如过眼云烟。\n",
       "——出自《西游记》第六十九回 孙大圣折身化人 牛二郎假变道士 偷酒果\n",
       "\n",
       "诸位青年朋友，请勿匆匆上路，且待我有话说。世间万事皆有因果报应的道理，犹如五行运转、万物生长：既有所求，则必有所获；即有所失，亦必然有所得。工作如是也。\n",
       "\n",
       "——《劝勉篇》\n",
       "\n",
       "希望在努力工作之余还能保有内心安详宁静的状态，就如同唐僧师徒历经千辛万苦到达西天取经成功一样。相信通过你们的勤奋与智慧，在未来也一定能达到自己理想中的境地。\n",
       "\n",
       "——《劝勉篇》\n",
       "\n",
       "青年朋友们，请勿轻视此言。世间之事无时不在变迁之中，而那些能够把握住当下，并且始终坚守自我追求与价值原则者方能赢得最后的胜利。希望诸君都能以平和的心态去面对每一次挑战，同时也要不忘自身肩负的责任。\n",
       "\n",
       "——《劝勉篇》\n",
       "\n",
       "以此作为结束，《劝勉篇》愿你们能在不断努力奋进的过程中找到内心的满足和平静。\n",
       "\n",
       "---\n",
       "\n",
       "这样修改后，文章不仅更加流畅自然，而且整体表达更为清晰和有力。如果你有任何特定的建议或想要进一步调整的地方，请随时告诉我！\n"
      ],
      "text/plain": [
       "<IPython.core.display.Markdown object>"
      ]
     },
     "metadata": {},
     "output_type": "display_data"
    }
   ],
   "source": [
    "import os\n",
    "from typing import Annotated, List\n",
    "from langchain_core.messages import AIMessage, HumanMessage\n",
    "from langchain_core.prompts import ChatPromptTemplate, MessagesPlaceholder\n",
    "from langchain_ollama.chat_models import ChatOllama\n",
    "from langgraph.graph import END, StateGraph, START\n",
    "from langgraph.graph.message import add_messages\n",
    "from langgraph.checkpoint.memory import MemorySaver\n",
    "from typing_extensions import TypedDict\n",
    "from IPython.display import Markdown, display\n",
    "\n",
    "def track_steps(func):\n",
    "    step_counter = {'count': 0}\n",
    "\n",
    "    def wrapper(event, *args, **kwargs):\n",
    "        step_counter['count'] += 1\n",
    "        display(Markdown(f\"## Round {step_counter['count']}\"))\n",
    "        return func(event, *args, **kwargs)\n",
    "\n",
    "    return wrapper\n",
    "\n",
    "# 定义状态模式类，用于StateGraph\n",
    "class StateSchema(TypedDict):\n",
    "    messages: Annotated[List, add_messages]\n",
    "\n",
    "class ChatAssistant:\n",
    "    MAX_ROUND = 4\n",
    "\n",
    "    def __init__(self, writer_model_url: str, reflect_model_url: str):\n",
    "        # 初始化写作和反思模型\n",
    "        self.writer = self._initialize_writer(writer_model_url)\n",
    "        self.reflect = self._initialize_reflect(reflect_model_url)\n",
    "\n",
    "        # 初始化状态图\n",
    "        self.builder = self._initialize_state_graph()\n",
    "        self.memory = MemorySaver()\n",
    "        self.graph = self.builder.compile(checkpointer=self.memory)\n",
    "\n",
    "    def _initialize_writer(self, base_url: str):\n",
    "        writer_prompt = ChatPromptTemplate.from_messages([\n",
    "            (\"system\", \"You are a writing assistant...\"),\n",
    "            MessagesPlaceholder(variable_name=\"messages\"),\n",
    "        ])\n",
    "        return writer_prompt | ChatOllama(\n",
    "            model=\"qwen2.5:3b\", max_tokens=8192, temperature=1.2, base_url=base_url\n",
    "        )\n",
    "\n",
    "    def _initialize_reflect(self, base_url: str):\n",
    "        reflection_prompt = ChatPromptTemplate.from_messages([\n",
    "            (\"system\", \"You are a teacher grading an article...\"),\n",
    "            MessagesPlaceholder(variable_name=\"messages\"),\n",
    "        ])\n",
    "        return reflection_prompt | ChatOllama(\n",
    "            model=\"qwen2.5:3b\", max_tokens=8192, temperature=0.2, base_url=base_url\n",
    "        )\n",
    "\n",
    "    async def generation_node(self, state: StateSchema) -> StateSchema:\n",
    "        return {\"messages\": [await self.writer.ainvoke(state['messages'])]}\n",
    "\n",
    "    async def reflection_node(self, state: StateSchema) -> StateSchema:\n",
    "        cls_map = {\"ai\": HumanMessage, \"human\": AIMessage}\n",
    "        translated = [state['messages'][0]] + [\n",
    "            cls_map[msg.type](content=msg.content) for msg in state['messages'][1:]\n",
    "        ]\n",
    "        res = await self.reflect.ainvoke(translated)\n",
    "        return {\"messages\": [HumanMessage(content=res.content)]}\n",
    "\n",
    "    def should_continue(self, state: StateSchema):\n",
    "        return END if len(state[\"messages\"]) > self.MAX_ROUND else \"reflect\"\n",
    "\n",
    "    def _initialize_state_graph(self):\n",
    "        builder = StateGraph(StateSchema)  # 使用StateSchema而不是字典\n",
    "        builder.add_node(\"writer\", self.generation_node)\n",
    "        builder.add_node(\"reflect\", self.reflection_node)\n",
    "        builder.add_edge(START, \"writer\")\n",
    "        builder.add_conditional_edges(\"writer\", self.should_continue)\n",
    "        builder.add_edge(\"reflect\", \"writer\")\n",
    "        return builder\n",
    "\n",
    "    @track_steps\n",
    "    def pretty_print_event_markdown(self, event):\n",
    "        if 'writer' in event:\n",
    "            generate_md = \"#### 写作生成:\\n\" + \"\".join(f\"- {msg.content}\\n\" for msg in event['writer']['messages'])\n",
    "            display(Markdown(generate_md))\n",
    "        if 'reflect' in event:\n",
    "            reflect_md = \"#### 评论反思:\\n\" + \"\".join(f\"- {msg.content}\\n\" for msg in event['reflect']['messages'])\n",
    "            display(Markdown(reflect_md))\n",
    "\n",
    "    async def start_chat(self, input_text: str):\n",
    "        inputs = {\"messages\": [HumanMessage(content=input_text)]}\n",
    "        config = {\"configurable\": {\"thread_id\": \"1\"}}\n",
    "        async for event in self.graph.astream(inputs, config):\n",
    "            self.pretty_print_event_markdown(event)\n",
    "\n",
    "# 使用示例\n",
    "assistant = ChatAssistant(writer_model_url=\"http://172.16.3.199:11434\", reflect_model_url=\"http://172.16.3.199:11434\")\n",
    "await assistant.start_chat(\"参考西游记唐僧的说话风格，写一篇奉劝年轻人努力工作的文章\")\n"
   ]
  },
  {
   "cell_type": "code",
   "execution_count": null,
   "id": "0691e7aa-cb95-40e2-99b8-6c13249c3486",
   "metadata": {},
   "outputs": [],
   "source": []
  },
  {
   "cell_type": "code",
   "execution_count": null,
   "id": "33feb153-349b-4b3b-b692-d6275911fd4f",
   "metadata": {},
   "outputs": [],
   "source": []
  }
 ],
 "metadata": {
  "kernelspec": {
   "display_name": "Python 3 (ipykernel)",
   "language": "python",
   "name": "python3"
  },
  "language_info": {
   "codemirror_mode": {
    "name": "ipython",
    "version": 3
   },
   "file_extension": ".py",
   "mimetype": "text/x-python",
   "name": "python",
   "nbconvert_exporter": "python",
   "pygments_lexer": "ipython3",
   "version": "3.10.13"
  }
 },
 "nbformat": 4,
 "nbformat_minor": 5
}
